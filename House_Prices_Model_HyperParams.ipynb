{
 "cells": [
  {
   "cell_type": "code",
   "execution_count": 1,
   "metadata": {},
   "outputs": [],
   "source": [
    "import pandas as pd\n",
    "import numpy as np\n",
    "import seaborn as sns\n",
    "import matplotlib.pyplot as plt\n",
    "%matplotlib inline\n",
    "\n",
    "from sklearn.preprocessing import LabelEncoder\n",
    "import xgboost as xgb"
   ]
  },
  {
   "cell_type": "markdown",
   "metadata": {},
   "source": [
    "6. Model Loading and Testing:\n",
    "The pre-trained XGBoost model is loaded from the 'model.pkl' file. The 'test.csv' file is imported, and necessary preprocessing steps are applied. The model is evaluated using mean absolute error (MAE) and R2 score to assess its performance."
   ]
  },
  {
   "cell_type": "markdown",
   "metadata": {},
   "source": [
    "**now we will import the train and test csv files and then again preprocess by removing some features manually**"
   ]
  },
  {
   "cell_type": "code",
   "execution_count": 2,
   "metadata": {},
   "outputs": [],
   "source": [
    "train = pd.read_csv('train.csv')\n",
    "test = pd.read_csv('test.csv')"
   ]
  },
  {
   "cell_type": "code",
   "execution_count": 3,
   "metadata": {},
   "outputs": [
    {
     "name": "stdout",
     "output_type": "stream",
     "text": [
      "<class 'pandas.core.frame.DataFrame'>\n",
      "RangeIndex: 1391 entries, 0 to 1390\n",
      "Data columns (total 14 columns):\n",
      " #   Column        Non-Null Count  Dtype  \n",
      "---  ------        --------------  -----  \n",
      " 0   1stFlrSF      1391 non-null   int64  \n",
      " 1   2ndFlrSF      1306 non-null   float64\n",
      " 2   BedroomAbvGr  1296 non-null   float64\n",
      " 3   BsmtFinSF1    1391 non-null   float64\n",
      " 4   GarageArea    1391 non-null   float64\n",
      " 5   GrLivArea     1391 non-null   int64  \n",
      " 6   LotArea       1391 non-null   int64  \n",
      " 7   MasVnrArea    1384 non-null   float64\n",
      " 8   OpenPorchSF   1391 non-null   int64  \n",
      " 9   OverallCond   1391 non-null   int64  \n",
      " 10  OverallQual   1391 non-null   int64  \n",
      " 11  TotalBsmtSF   1391 non-null   float64\n",
      " 12  YearBuilt     1391 non-null   int64  \n",
      " 13  YearRemodAdd  1391 non-null   int64  \n",
      "dtypes: float64(6), int64(8)\n",
      "memory usage: 152.3 KB\n"
     ]
    }
   ],
   "source": [
    "train.info()"
   ]
  },
  {
   "cell_type": "markdown",
   "metadata": {},
   "source": [
    "dropping all the columns except \n",
    "\n",
    "1stFlrSF\t2ndFlrSF\tBedroomAbvGr\tBsmtFinSF1\tGarageArea\tGrLivArea\tLotArea\tMasVnrArea\tOpenPorchSF\tOverallCond\tOverallQual\tTotalBsmtSF\tYearBuilt\tYearRemodAdd\t\t\t\n"
   ]
  },
  {
   "cell_type": "code",
   "execution_count": 4,
   "metadata": {},
   "outputs": [],
   "source": [
    "keep_cols = ['1stFlrSF', '2ndFlrSF', 'BedroomAbvGr', 'BsmtFinSF1', 'GarageArea', \n",
    "             'GrLivArea', 'LotArea', 'MasVnrArea', 'OpenPorchSF', 'OverallCond',\n",
    "             'OverallQual', 'TotalBsmtSF', 'YearBuilt', 'YearRemodAdd']\n",
    "\n",
    "# Drop all columns except the ones to keep\n",
    "train = train[keep_cols]"
   ]
  },
  {
   "cell_type": "code",
   "execution_count": 5,
   "metadata": {},
   "outputs": [
    {
     "name": "stdout",
     "output_type": "stream",
     "text": [
      "<class 'pandas.core.frame.DataFrame'>\n",
      "RangeIndex: 1391 entries, 0 to 1390\n",
      "Data columns (total 14 columns):\n",
      " #   Column        Non-Null Count  Dtype  \n",
      "---  ------        --------------  -----  \n",
      " 0   1stFlrSF      1391 non-null   int64  \n",
      " 1   2ndFlrSF      1306 non-null   float64\n",
      " 2   BedroomAbvGr  1296 non-null   float64\n",
      " 3   BsmtFinSF1    1391 non-null   float64\n",
      " 4   GarageArea    1391 non-null   float64\n",
      " 5   GrLivArea     1391 non-null   int64  \n",
      " 6   LotArea       1391 non-null   int64  \n",
      " 7   MasVnrArea    1384 non-null   float64\n",
      " 8   OpenPorchSF   1391 non-null   int64  \n",
      " 9   OverallCond   1391 non-null   int64  \n",
      " 10  OverallQual   1391 non-null   int64  \n",
      " 11  TotalBsmtSF   1391 non-null   float64\n",
      " 12  YearBuilt     1391 non-null   int64  \n",
      " 13  YearRemodAdd  1391 non-null   int64  \n",
      "dtypes: float64(6), int64(8)\n",
      "memory usage: 152.3 KB\n"
     ]
    }
   ],
   "source": [
    "train.info()"
   ]
  },
  {
   "cell_type": "code",
   "execution_count": 6,
   "metadata": {},
   "outputs": [
    {
     "data": {
      "text/plain": [
       "(1391, 14)"
      ]
     },
     "execution_count": 6,
     "metadata": {},
     "output_type": "execute_result"
    }
   ],
   "source": [
    "train.to_csv('train.csv',index=False)\n",
    "train.shape"
   ]
  },
  {
   "cell_type": "code",
   "execution_count": null,
   "metadata": {},
   "outputs": [],
   "source": [
    "import pickle"
   ]
  },
  {
   "cell_type": "code",
   "execution_count": null,
   "metadata": {},
   "outputs": [],
   "source": [
    "# with open('model.pkl', 'rb') as file:\n",
    "#     model = pickle.load(file)"
   ]
  },
  {
   "cell_type": "code",
   "execution_count": 7,
   "metadata": {},
   "outputs": [
    {
     "data": {
      "text/plain": [
       "(1391, 1)"
      ]
     },
     "execution_count": 7,
     "metadata": {},
     "output_type": "execute_result"
    }
   ],
   "source": [
    "test = pd.read_csv('test.csv',index_col=0)\n",
    "test.shape"
   ]
  },
  {
   "cell_type": "code",
   "execution_count": 15,
   "metadata": {},
   "outputs": [],
   "source": [
    "from sklearn.model_selection import train_test_split\n",
    "train_x ,test_x, train_y, test_y = train_test_split(train,test,test_size=0.30,random_state=14)"
   ]
  },
  {
   "cell_type": "code",
   "execution_count": 16,
   "metadata": {},
   "outputs": [
    {
     "data": {
      "text/html": [
       "<style>#sk-container-id-3 {color: black;background-color: white;}#sk-container-id-3 pre{padding: 0;}#sk-container-id-3 div.sk-toggleable {background-color: white;}#sk-container-id-3 label.sk-toggleable__label {cursor: pointer;display: block;width: 100%;margin-bottom: 0;padding: 0.3em;box-sizing: border-box;text-align: center;}#sk-container-id-3 label.sk-toggleable__label-arrow:before {content: \"▸\";float: left;margin-right: 0.25em;color: #696969;}#sk-container-id-3 label.sk-toggleable__label-arrow:hover:before {color: black;}#sk-container-id-3 div.sk-estimator:hover label.sk-toggleable__label-arrow:before {color: black;}#sk-container-id-3 div.sk-toggleable__content {max-height: 0;max-width: 0;overflow: hidden;text-align: left;background-color: #f0f8ff;}#sk-container-id-3 div.sk-toggleable__content pre {margin: 0.2em;color: black;border-radius: 0.25em;background-color: #f0f8ff;}#sk-container-id-3 input.sk-toggleable__control:checked~div.sk-toggleable__content {max-height: 200px;max-width: 100%;overflow: auto;}#sk-container-id-3 input.sk-toggleable__control:checked~label.sk-toggleable__label-arrow:before {content: \"▾\";}#sk-container-id-3 div.sk-estimator input.sk-toggleable__control:checked~label.sk-toggleable__label {background-color: #d4ebff;}#sk-container-id-3 div.sk-label input.sk-toggleable__control:checked~label.sk-toggleable__label {background-color: #d4ebff;}#sk-container-id-3 input.sk-hidden--visually {border: 0;clip: rect(1px 1px 1px 1px);clip: rect(1px, 1px, 1px, 1px);height: 1px;margin: -1px;overflow: hidden;padding: 0;position: absolute;width: 1px;}#sk-container-id-3 div.sk-estimator {font-family: monospace;background-color: #f0f8ff;border: 1px dotted black;border-radius: 0.25em;box-sizing: border-box;margin-bottom: 0.5em;}#sk-container-id-3 div.sk-estimator:hover {background-color: #d4ebff;}#sk-container-id-3 div.sk-parallel-item::after {content: \"\";width: 100%;border-bottom: 1px solid gray;flex-grow: 1;}#sk-container-id-3 div.sk-label:hover label.sk-toggleable__label {background-color: #d4ebff;}#sk-container-id-3 div.sk-serial::before {content: \"\";position: absolute;border-left: 1px solid gray;box-sizing: border-box;top: 0;bottom: 0;left: 50%;z-index: 0;}#sk-container-id-3 div.sk-serial {display: flex;flex-direction: column;align-items: center;background-color: white;padding-right: 0.2em;padding-left: 0.2em;position: relative;}#sk-container-id-3 div.sk-item {position: relative;z-index: 1;}#sk-container-id-3 div.sk-parallel {display: flex;align-items: stretch;justify-content: center;background-color: white;position: relative;}#sk-container-id-3 div.sk-item::before, #sk-container-id-3 div.sk-parallel-item::before {content: \"\";position: absolute;border-left: 1px solid gray;box-sizing: border-box;top: 0;bottom: 0;left: 50%;z-index: -1;}#sk-container-id-3 div.sk-parallel-item {display: flex;flex-direction: column;z-index: 1;position: relative;background-color: white;}#sk-container-id-3 div.sk-parallel-item:first-child::after {align-self: flex-end;width: 50%;}#sk-container-id-3 div.sk-parallel-item:last-child::after {align-self: flex-start;width: 50%;}#sk-container-id-3 div.sk-parallel-item:only-child::after {width: 0;}#sk-container-id-3 div.sk-dashed-wrapped {border: 1px dashed gray;margin: 0 0.4em 0.5em 0.4em;box-sizing: border-box;padding-bottom: 0.4em;background-color: white;}#sk-container-id-3 div.sk-label label {font-family: monospace;font-weight: bold;display: inline-block;line-height: 1.2em;}#sk-container-id-3 div.sk-label-container {text-align: center;}#sk-container-id-3 div.sk-container {/* jupyter's `normalize.less` sets `[hidden] { display: none; }` but bootstrap.min.css set `[hidden] { display: none !important; }` so we also need the `!important` here to be able to override the default hidden behavior on the sphinx rendered scikit-learn.org. See: https://github.com/scikit-learn/scikit-learn/issues/21755 */display: inline-block !important;position: relative;}#sk-container-id-3 div.sk-text-repr-fallback {display: none;}</style><div id=\"sk-container-id-3\" class=\"sk-top-container\"><div class=\"sk-text-repr-fallback\"><pre>XGBRegressor(base_score=None, booster=None, callbacks=None,\n",
       "             colsample_bylevel=None, colsample_bynode=None,\n",
       "             colsample_bytree=None, early_stopping_rounds=None,\n",
       "             enable_categorical=False, eval_metric=None, feature_types=None,\n",
       "             gamma=None, gpu_id=None, grow_policy=None, importance_type=None,\n",
       "             interaction_constraints=None, learning_rate=None, max_bin=None,\n",
       "             max_cat_threshold=None, max_cat_to_onehot=None,\n",
       "             max_delta_step=None, max_depth=None, max_leaves=None,\n",
       "             min_child_weight=None, missing=nan, monotone_constraints=None,\n",
       "             n_estimators=100, n_jobs=None, num_parallel_tree=None,\n",
       "             predictor=None, random_state=None, ...)</pre><b>In a Jupyter environment, please rerun this cell to show the HTML representation or trust the notebook. <br />On GitHub, the HTML representation is unable to render, please try loading this page with nbviewer.org.</b></div><div class=\"sk-container\" hidden><div class=\"sk-item\"><div class=\"sk-estimator sk-toggleable\"><input class=\"sk-toggleable__control sk-hidden--visually\" id=\"sk-estimator-id-5\" type=\"checkbox\" checked><label for=\"sk-estimator-id-5\" class=\"sk-toggleable__label sk-toggleable__label-arrow\">XGBRegressor</label><div class=\"sk-toggleable__content\"><pre>XGBRegressor(base_score=None, booster=None, callbacks=None,\n",
       "             colsample_bylevel=None, colsample_bynode=None,\n",
       "             colsample_bytree=None, early_stopping_rounds=None,\n",
       "             enable_categorical=False, eval_metric=None, feature_types=None,\n",
       "             gamma=None, gpu_id=None, grow_policy=None, importance_type=None,\n",
       "             interaction_constraints=None, learning_rate=None, max_bin=None,\n",
       "             max_cat_threshold=None, max_cat_to_onehot=None,\n",
       "             max_delta_step=None, max_depth=None, max_leaves=None,\n",
       "             min_child_weight=None, missing=nan, monotone_constraints=None,\n",
       "             n_estimators=100, n_jobs=None, num_parallel_tree=None,\n",
       "             predictor=None, random_state=None, ...)</pre></div></div></div></div></div>"
      ],
      "text/plain": [
       "XGBRegressor(base_score=None, booster=None, callbacks=None,\n",
       "             colsample_bylevel=None, colsample_bynode=None,\n",
       "             colsample_bytree=None, early_stopping_rounds=None,\n",
       "             enable_categorical=False, eval_metric=None, feature_types=None,\n",
       "             gamma=None, gpu_id=None, grow_policy=None, importance_type=None,\n",
       "             interaction_constraints=None, learning_rate=None, max_bin=None,\n",
       "             max_cat_threshold=None, max_cat_to_onehot=None,\n",
       "             max_delta_step=None, max_depth=None, max_leaves=None,\n",
       "             min_child_weight=None, missing=nan, monotone_constraints=None,\n",
       "             n_estimators=100, n_jobs=None, num_parallel_tree=None,\n",
       "             predictor=None, random_state=None, ...)"
      ]
     },
     "execution_count": 16,
     "metadata": {},
     "output_type": "execute_result"
    }
   ],
   "source": [
    "temp_model = xgb.XGBRegressor()\n",
    "temp_model.fit(train_x,train_y)"
   ]
  },
  {
   "cell_type": "code",
   "execution_count": 17,
   "metadata": {},
   "outputs": [],
   "source": [
    "pred = temp_model.predict(test_x)"
   ]
  },
  {
   "cell_type": "code",
   "execution_count": 18,
   "metadata": {},
   "outputs": [
    {
     "name": "stdout",
     "output_type": "stream",
     "text": [
      "[107130.414 108442.4   149618.    169091.94  109673.01  116263.086\n",
      " 275865.9   193803.03  153832.6   236131.44  271350.72  123308.78\n",
      " 198904.97  183811.84  150008.58  235354.23  129812.56  142639.42\n",
      " 154949.69  227070.53  292548.47  119111.43   93195.44  291377.06\n",
      " 112706.01  188260.44  145955.27  132883.     88281.04  162592.47\n",
      " 144433.33  129566.55  137660.98  129476.93  201741.56  195287.56\n",
      " 124110.086 104345.18  247095.42  356701.    133160.08  161097.17\n",
      " 219203.72  188970.9   139316.83  143936.    199612.42  106281.52\n",
      " 101116.664 240131.78  149603.11  171665.33  183444.75  122410.02\n",
      " 202333.31  133417.75  340495.16  179908.64  242814.23  157730.45\n",
      " 172938.19  166499.9   156840.5    83944.03  290728.7   232312.45\n",
      " 235882.4   191205.23  132427.64  186294.52   92908.055 215617.61\n",
      "  86486.55  217737.58  100218.39  134341.72  278772.2   245764.67\n",
      " 144833.56  131922.48  163423.28  119353.93  140450.06  226310.12\n",
      " 271116.72  118328.38  170643.4   150707.78  164027.56  234572.17\n",
      " 184705.39  171917.55  147139.33  140552.31  188719.97  165385.53\n",
      " 141228.39  149708.75  162271.64  130366.28  218843.45  140553.66\n",
      " 100441.71  208074.42  206161.25  373665.9   119233.96  183856.45\n",
      " 167338.88  211388.6   210961.2   125366.77  121635.01   87848.69\n",
      " 189426.6   137004.53  150768.48   89552.49  135088.28  162356.61\n",
      " 142735.9   164021.2   144071.44  209711.2   153209.84  186809.22\n",
      " 150761.53  153005.1   112161.91  198517.3   202034.28  174124.33\n",
      " 278861.88  375993.03  201742.33   90499.62  177359.03  132468.12\n",
      " 267632.56  218313.67  144635.94   78953.47  151036.86  146090.44\n",
      " 139310.4   145017.58  126819.75  127753.32   71738.19  111948.664\n",
      " 156897.48  183085.92  202809.62  176619.5   345434.44   94499.16\n",
      " 151742.47  145948.11  143888.53  140966.45  186146.1   434256.3\n",
      " 175816.84  138951.4   219572.03  106449.88  128579.84  154113.6\n",
      " 182800.08  260662.53  308769.03  273002.03  273620.84  151928.27\n",
      " 179096.08  135406.12  159942.3   140577.27  122255.125 180655.72\n",
      " 358436.06  222077.16  141273.28  195866.    149338.72  226956.44\n",
      " 147480.58  127010.27  131118.9   160389.75  131912.03  213189.72\n",
      " 142863.5   109255.555 434901.03  280139.97  152356.62  165884.27\n",
      " 159822.38   56956.977 139137.94  127524.5   114761.61  256583.08\n",
      " 241856.38  131014.23  117052.45  191781.92  168042.19   78989.24\n",
      " 177242.38  102228.63  397230.25  151334.3   233589.67  113977.086\n",
      " 109336.45  141880.05  188705.64  190140.6   396284.62  148089.22\n",
      "  89056.414 142372.69  307975.12  173814.05   79503.57  233436.81\n",
      " 298842.1   223027.92  319740.62  299143.47  202025.83  150818.02\n",
      " 175777.56  111470.62  146383.88  148353.03  388558.94  181557.64\n",
      " 104838.82  169507.52  438811.4   138552.84  152481.36  197197.38\n",
      "  89797.41  133499.97  104043.305  70687.72  163192.44  145179.36\n",
      " 177219.3   117109.91  137177.22  167854.98  137316.62  125123.2\n",
      " 275403.12  223116.06  151066.9   147975.92  138192.4   226741.81\n",
      " 152679.05  163426.56  114882.1   151490.06  146449.08  171374.44\n",
      " 292199.84  221997.64  118836.84  148678.94  133052.83  194553.05\n",
      " 147167.47  118485.13  214968.14  233633.95  165122.2   151895.89\n",
      " 143593.1   150818.02  272264.38  185508.44  104977.36  117597.44\n",
      " 209483.92  114870.516 297265.78  158094.53  124480.414 200641.33\n",
      " 224386.5   102656.98  108694.69  150818.02  168986.14  223856.28\n",
      " 172611.86  140545.    155463.67  147259.45  133974.56   91430.78\n",
      " 132887.83  142206.64  244625.17  149443.72  165567.    249243.02\n",
      " 177996.28  127083.766 163445.45  146642.12  185887.56  268809.34\n",
      " 174416.88  261900.6   157391.95  168023.89  193169.64  194821.53\n",
      " 137145.47  197064.89  144377.03  233973.97  239383.11  122963.8\n",
      " 123607.664 201621.97  150707.78   56916.223 171039.02  113580.305\n",
      " 297949.47  124824.53  141607.33  150238.7   156504.53  182613.84\n",
      " 128233.27  100881.89  117665.59  163237.67  153566.61  138125.94\n",
      " 166419.25  133973.27  153758.02  163147.27   82294.07  164663.12\n",
      " 202078.3   329873.3   152613.66  128319.75  144931.89  261475.52\n",
      " 246585.3   318039.2   130701.555  80963.09  236768.9   258443.34\n",
      " 234303.62  103041.664 138563.42  196404.83  220409.94  309922.72\n",
      " 260333.19  159302.66  221308.9    86042.52   95972.92  219242.27\n",
      " 170897.25  197426.02  273807.62  401326.9   121035.12  122362.6\n",
      " 181298.39  123258.99  309821.94  210935.02  102391.16  116589.85\n",
      " 116200.29  196264.66  149903.8   143734.38  204799.23  340529.3\n",
      " 201988.47  166791.48  150818.02  182718.23  250368.88  147996.17\n",
      " 143862.88  160712.53  140698.4   191950.36  102163.195 157070.27\n",
      " 122879.21  259757.86  145853.83  160060.27  241456.06  170560.23\n",
      " 110182.305 200083.8   202103.36  218221.64 ]\n"
     ]
    }
   ],
   "source": [
    "print(pred)"
   ]
  },
  {
   "cell_type": "code",
   "execution_count": null,
   "metadata": {},
   "outputs": [
    {
     "ename": "IndexError",
     "evalue": "too many indices for array: array is 1-dimensional, but 2 were indexed",
     "output_type": "error",
     "traceback": [
      "\u001b[1;31m---------------------------------------------------------------------------\u001b[0m\n",
      "\u001b[1;31mIndexError\u001b[0m                                Traceback (most recent call last)\n",
      "\u001b[1;32mg:\\UPWORK\\House_Prices\\House_Price.ipynb Cell 66\u001b[0m line \u001b[0;36m1\n",
      "\u001b[1;32m----> <a href='vscode-notebook-cell:/g%3A/UPWORK/House_Prices/House_Price.ipynb#Y124sZmlsZQ%3D%3D?line=0'>1</a>\u001b[0m pred \u001b[39m=\u001b[39m pred[:,\u001b[39m0\u001b[39;49m]\n",
      "\n",
      "\u001b[1;31mIndexError\u001b[0m: too many indices for array: array is 1-dimensional, but 2 were indexed"
     ]
    }
   ],
   "source": [
    "# pred = pred[:,0]"
   ]
  },
  {
   "cell_type": "code",
   "execution_count": 19,
   "metadata": {},
   "outputs": [
    {
     "data": {
      "text/plain": [
       "15702.34919819079"
      ]
     },
     "execution_count": 19,
     "metadata": {},
     "output_type": "execute_result"
    }
   ],
   "source": [
    "from sklearn.metrics import mean_absolute_error\n",
    "mae = mean_absolute_error(test_y,pred)\n",
    "mae"
   ]
  },
  {
   "cell_type": "code",
   "execution_count": 20,
   "metadata": {},
   "outputs": [
    {
     "data": {
      "text/plain": [
       "0.8960851295133059"
      ]
     },
     "execution_count": 20,
     "metadata": {},
     "output_type": "execute_result"
    }
   ],
   "source": [
    "from sklearn.metrics import r2_score\n",
    "r2score = r2_score(test_y, pred)\n",
    "r2score"
   ]
  },
  {
   "cell_type": "code",
   "execution_count": 21,
   "metadata": {},
   "outputs": [
    {
     "data": {
      "text/html": [
       "<style>#sk-container-id-4 {color: black;background-color: white;}#sk-container-id-4 pre{padding: 0;}#sk-container-id-4 div.sk-toggleable {background-color: white;}#sk-container-id-4 label.sk-toggleable__label {cursor: pointer;display: block;width: 100%;margin-bottom: 0;padding: 0.3em;box-sizing: border-box;text-align: center;}#sk-container-id-4 label.sk-toggleable__label-arrow:before {content: \"▸\";float: left;margin-right: 0.25em;color: #696969;}#sk-container-id-4 label.sk-toggleable__label-arrow:hover:before {color: black;}#sk-container-id-4 div.sk-estimator:hover label.sk-toggleable__label-arrow:before {color: black;}#sk-container-id-4 div.sk-toggleable__content {max-height: 0;max-width: 0;overflow: hidden;text-align: left;background-color: #f0f8ff;}#sk-container-id-4 div.sk-toggleable__content pre {margin: 0.2em;color: black;border-radius: 0.25em;background-color: #f0f8ff;}#sk-container-id-4 input.sk-toggleable__control:checked~div.sk-toggleable__content {max-height: 200px;max-width: 100%;overflow: auto;}#sk-container-id-4 input.sk-toggleable__control:checked~label.sk-toggleable__label-arrow:before {content: \"▾\";}#sk-container-id-4 div.sk-estimator input.sk-toggleable__control:checked~label.sk-toggleable__label {background-color: #d4ebff;}#sk-container-id-4 div.sk-label input.sk-toggleable__control:checked~label.sk-toggleable__label {background-color: #d4ebff;}#sk-container-id-4 input.sk-hidden--visually {border: 0;clip: rect(1px 1px 1px 1px);clip: rect(1px, 1px, 1px, 1px);height: 1px;margin: -1px;overflow: hidden;padding: 0;position: absolute;width: 1px;}#sk-container-id-4 div.sk-estimator {font-family: monospace;background-color: #f0f8ff;border: 1px dotted black;border-radius: 0.25em;box-sizing: border-box;margin-bottom: 0.5em;}#sk-container-id-4 div.sk-estimator:hover {background-color: #d4ebff;}#sk-container-id-4 div.sk-parallel-item::after {content: \"\";width: 100%;border-bottom: 1px solid gray;flex-grow: 1;}#sk-container-id-4 div.sk-label:hover label.sk-toggleable__label {background-color: #d4ebff;}#sk-container-id-4 div.sk-serial::before {content: \"\";position: absolute;border-left: 1px solid gray;box-sizing: border-box;top: 0;bottom: 0;left: 50%;z-index: 0;}#sk-container-id-4 div.sk-serial {display: flex;flex-direction: column;align-items: center;background-color: white;padding-right: 0.2em;padding-left: 0.2em;position: relative;}#sk-container-id-4 div.sk-item {position: relative;z-index: 1;}#sk-container-id-4 div.sk-parallel {display: flex;align-items: stretch;justify-content: center;background-color: white;position: relative;}#sk-container-id-4 div.sk-item::before, #sk-container-id-4 div.sk-parallel-item::before {content: \"\";position: absolute;border-left: 1px solid gray;box-sizing: border-box;top: 0;bottom: 0;left: 50%;z-index: -1;}#sk-container-id-4 div.sk-parallel-item {display: flex;flex-direction: column;z-index: 1;position: relative;background-color: white;}#sk-container-id-4 div.sk-parallel-item:first-child::after {align-self: flex-end;width: 50%;}#sk-container-id-4 div.sk-parallel-item:last-child::after {align-self: flex-start;width: 50%;}#sk-container-id-4 div.sk-parallel-item:only-child::after {width: 0;}#sk-container-id-4 div.sk-dashed-wrapped {border: 1px dashed gray;margin: 0 0.4em 0.5em 0.4em;box-sizing: border-box;padding-bottom: 0.4em;background-color: white;}#sk-container-id-4 div.sk-label label {font-family: monospace;font-weight: bold;display: inline-block;line-height: 1.2em;}#sk-container-id-4 div.sk-label-container {text-align: center;}#sk-container-id-4 div.sk-container {/* jupyter's `normalize.less` sets `[hidden] { display: none; }` but bootstrap.min.css set `[hidden] { display: none !important; }` so we also need the `!important` here to be able to override the default hidden behavior on the sphinx rendered scikit-learn.org. See: https://github.com/scikit-learn/scikit-learn/issues/21755 */display: inline-block !important;position: relative;}#sk-container-id-4 div.sk-text-repr-fallback {display: none;}</style><div id=\"sk-container-id-4\" class=\"sk-top-container\"><div class=\"sk-text-repr-fallback\"><pre>GridSearchCV(cv=5,\n",
       "             estimator=XGBRegressor(base_score=None, booster=None,\n",
       "                                    callbacks=None, colsample_bylevel=None,\n",
       "                                    colsample_bynode=None,\n",
       "                                    colsample_bytree=None,\n",
       "                                    early_stopping_rounds=None,\n",
       "                                    enable_categorical=False, eval_metric=None,\n",
       "                                    feature_types=None, gamma=None, gpu_id=None,\n",
       "                                    grow_policy=None, importance_type=None,\n",
       "                                    interaction_constraints=None,\n",
       "                                    learning_rate=None, m...\n",
       "                                    max_cat_to_onehot=None, max_delta_step=None,\n",
       "                                    max_depth=None, max_leaves=None,\n",
       "                                    min_child_weight=None, missing=nan,\n",
       "                                    monotone_constraints=None, n_estimators=100,\n",
       "                                    n_jobs=None, num_parallel_tree=None,\n",
       "                                    predictor=None, random_state=None, ...),\n",
       "             param_grid={&#x27;learning_rate&#x27;: [0.05, 0.1, 0.2],\n",
       "                         &#x27;max_depth&#x27;: [3, 4, 5], &#x27;min_child_weight&#x27;: [1, 2, 3],\n",
       "                         &#x27;n_estimators&#x27;: [100, 200, 300]},\n",
       "             scoring=&#x27;r2&#x27;)</pre><b>In a Jupyter environment, please rerun this cell to show the HTML representation or trust the notebook. <br />On GitHub, the HTML representation is unable to render, please try loading this page with nbviewer.org.</b></div><div class=\"sk-container\" hidden><div class=\"sk-item sk-dashed-wrapped\"><div class=\"sk-label-container\"><div class=\"sk-label sk-toggleable\"><input class=\"sk-toggleable__control sk-hidden--visually\" id=\"sk-estimator-id-6\" type=\"checkbox\" ><label for=\"sk-estimator-id-6\" class=\"sk-toggleable__label sk-toggleable__label-arrow\">GridSearchCV</label><div class=\"sk-toggleable__content\"><pre>GridSearchCV(cv=5,\n",
       "             estimator=XGBRegressor(base_score=None, booster=None,\n",
       "                                    callbacks=None, colsample_bylevel=None,\n",
       "                                    colsample_bynode=None,\n",
       "                                    colsample_bytree=None,\n",
       "                                    early_stopping_rounds=None,\n",
       "                                    enable_categorical=False, eval_metric=None,\n",
       "                                    feature_types=None, gamma=None, gpu_id=None,\n",
       "                                    grow_policy=None, importance_type=None,\n",
       "                                    interaction_constraints=None,\n",
       "                                    learning_rate=None, m...\n",
       "                                    max_cat_to_onehot=None, max_delta_step=None,\n",
       "                                    max_depth=None, max_leaves=None,\n",
       "                                    min_child_weight=None, missing=nan,\n",
       "                                    monotone_constraints=None, n_estimators=100,\n",
       "                                    n_jobs=None, num_parallel_tree=None,\n",
       "                                    predictor=None, random_state=None, ...),\n",
       "             param_grid={&#x27;learning_rate&#x27;: [0.05, 0.1, 0.2],\n",
       "                         &#x27;max_depth&#x27;: [3, 4, 5], &#x27;min_child_weight&#x27;: [1, 2, 3],\n",
       "                         &#x27;n_estimators&#x27;: [100, 200, 300]},\n",
       "             scoring=&#x27;r2&#x27;)</pre></div></div></div><div class=\"sk-parallel\"><div class=\"sk-parallel-item\"><div class=\"sk-item\"><div class=\"sk-label-container\"><div class=\"sk-label sk-toggleable\"><input class=\"sk-toggleable__control sk-hidden--visually\" id=\"sk-estimator-id-7\" type=\"checkbox\" ><label for=\"sk-estimator-id-7\" class=\"sk-toggleable__label sk-toggleable__label-arrow\">estimator: XGBRegressor</label><div class=\"sk-toggleable__content\"><pre>XGBRegressor(base_score=None, booster=None, callbacks=None,\n",
       "             colsample_bylevel=None, colsample_bynode=None,\n",
       "             colsample_bytree=None, early_stopping_rounds=None,\n",
       "             enable_categorical=False, eval_metric=None, feature_types=None,\n",
       "             gamma=None, gpu_id=None, grow_policy=None, importance_type=None,\n",
       "             interaction_constraints=None, learning_rate=None, max_bin=None,\n",
       "             max_cat_threshold=None, max_cat_to_onehot=None,\n",
       "             max_delta_step=None, max_depth=None, max_leaves=None,\n",
       "             min_child_weight=None, missing=nan, monotone_constraints=None,\n",
       "             n_estimators=100, n_jobs=None, num_parallel_tree=None,\n",
       "             predictor=None, random_state=None, ...)</pre></div></div></div><div class=\"sk-serial\"><div class=\"sk-item\"><div class=\"sk-estimator sk-toggleable\"><input class=\"sk-toggleable__control sk-hidden--visually\" id=\"sk-estimator-id-8\" type=\"checkbox\" ><label for=\"sk-estimator-id-8\" class=\"sk-toggleable__label sk-toggleable__label-arrow\">XGBRegressor</label><div class=\"sk-toggleable__content\"><pre>XGBRegressor(base_score=None, booster=None, callbacks=None,\n",
       "             colsample_bylevel=None, colsample_bynode=None,\n",
       "             colsample_bytree=None, early_stopping_rounds=None,\n",
       "             enable_categorical=False, eval_metric=None, feature_types=None,\n",
       "             gamma=None, gpu_id=None, grow_policy=None, importance_type=None,\n",
       "             interaction_constraints=None, learning_rate=None, max_bin=None,\n",
       "             max_cat_threshold=None, max_cat_to_onehot=None,\n",
       "             max_delta_step=None, max_depth=None, max_leaves=None,\n",
       "             min_child_weight=None, missing=nan, monotone_constraints=None,\n",
       "             n_estimators=100, n_jobs=None, num_parallel_tree=None,\n",
       "             predictor=None, random_state=None, ...)</pre></div></div></div></div></div></div></div></div></div></div>"
      ],
      "text/plain": [
       "GridSearchCV(cv=5,\n",
       "             estimator=XGBRegressor(base_score=None, booster=None,\n",
       "                                    callbacks=None, colsample_bylevel=None,\n",
       "                                    colsample_bynode=None,\n",
       "                                    colsample_bytree=None,\n",
       "                                    early_stopping_rounds=None,\n",
       "                                    enable_categorical=False, eval_metric=None,\n",
       "                                    feature_types=None, gamma=None, gpu_id=None,\n",
       "                                    grow_policy=None, importance_type=None,\n",
       "                                    interaction_constraints=None,\n",
       "                                    learning_rate=None, m...\n",
       "                                    max_cat_to_onehot=None, max_delta_step=None,\n",
       "                                    max_depth=None, max_leaves=None,\n",
       "                                    min_child_weight=None, missing=nan,\n",
       "                                    monotone_constraints=None, n_estimators=100,\n",
       "                                    n_jobs=None, num_parallel_tree=None,\n",
       "                                    predictor=None, random_state=None, ...),\n",
       "             param_grid={'learning_rate': [0.05, 0.1, 0.2],\n",
       "                         'max_depth': [3, 4, 5], 'min_child_weight': [1, 2, 3],\n",
       "                         'n_estimators': [100, 200, 300]},\n",
       "             scoring='r2')"
      ]
     },
     "execution_count": 21,
     "metadata": {},
     "output_type": "execute_result"
    }
   ],
   "source": [
    "from sklearn.model_selection import GridSearchCV\n",
    "\n",
    "param_grid = {\n",
    "    'n_estimators': [100, 200, 300],  # Number of boosting rounds\n",
    "    'learning_rate': [0.05, 0.1, 0.2],  # Step size shrinkage used in update to prevent overfitting\n",
    "    'max_depth': [3, 4, 5],  # Maximum depth of a tree\n",
    "    'min_child_weight': [1, 2, 3]  # Minimum sum of instance weight (hessian) needed in a child\n",
    "}\n",
    "\n",
    "grid_search = GridSearchCV(estimator=temp_model, param_grid=param_grid, scoring='r2', cv=5)\n",
    "grid_search.fit(train_x, train_y)"
   ]
  },
  {
   "cell_type": "code",
   "execution_count": 22,
   "metadata": {},
   "outputs": [
    {
     "name": "stdout",
     "output_type": "stream",
     "text": [
      "Best Hyperparameters: {'learning_rate': 0.05, 'max_depth': 5, 'min_child_weight': 2, 'n_estimators': 300}\n"
     ]
    }
   ],
   "source": [
    "print(\"Best Hyperparameters:\", grid_search.best_params_)"
   ]
  },
  {
   "cell_type": "code",
   "execution_count": 23,
   "metadata": {},
   "outputs": [
    {
     "name": "stdout",
     "output_type": "stream",
     "text": [
      "R2 Score on Test Data: 0.906354562265016\n"
     ]
    }
   ],
   "source": [
    "best_xgb_model = grid_search.best_estimator_\n",
    "r2_score = best_xgb_model.score(test_x,test_y)\n",
    "print(\"R2 Score on Test Data:\", r2_score)"
   ]
  },
  {
   "cell_type": "code",
   "execution_count": 24,
   "metadata": {},
   "outputs": [
    {
     "data": {
      "text/plain": [
       "['xgb_r2.pkl']"
      ]
     },
     "execution_count": 24,
     "metadata": {},
     "output_type": "execute_result"
    }
   ],
   "source": [
    "import joblib\n",
    "best_xgb_model = grid_search.best_estimator_\n",
    "joblib.dump(best_xgb_model, 'xgb_r2.pkl')"
   ]
  },
  {
   "cell_type": "markdown",
   "metadata": {},
   "source": [
    "### Hypothesis:\n",
    "The project hypotheses revolve around the critical factors influencing house prices in Ames, Iowa. \n",
    "\n",
    "1. **Hypothesis 1:** The size-related features, including first floor area (`1stFlrSF`), second floor area (`2ndFlrSF`), and living area above ground (`GrLivArea`), significantly impact house prices. We posit that larger houses, both in terms of total square footage and individual floor areas, will command higher prices.\n",
    "\n",
    "2. **Hypothesis 2:** The quality-related features, such as overall condition (`OverallCond`) and overall material and finish quality rating (`OverallQual`), are crucial determinants of house prices. We hypothesize that houses with higher quality ratings will have higher market values.\n",
    "\n",
    "3. **Hypothesis 3:** Other features like the presence of a basement (`BsmtFinSF1`), garage area (`GarageArea`), and lot size (`LotArea`) play essential roles in pricing. We anticipate that houses with finished basements, larger garages, and more extensive lots will be valued higher in the market.\n",
    "\n",
    "### Hypothesis Validation:\n",
    "- **Hypothesis 1 Validation:** To validate the impact of size-related features, exploratory data analysis will include scatter plots and correlation analysis. We expect positive correlations between these features and the target variable, confirming the hypothesis.\n",
    "\n",
    "- **Hypothesis 2 Validation:** Quality-related features will be analyzed using box plots and bar charts to compare price distributions across different quality ratings. Statistical tests will be applied to validate whether higher quality ratings indeed lead to higher prices.\n",
    "\n",
    "- **Hypothesis 3 Validation:** Presence of basement, garage area, and lot size will be analyzed similarly to Hypothesis 2, using visualizations and statistical methods to confirm their influence on house prices.\n",
    "\n",
    "### Project Overview:\n",
    "The project comprises three main stages. The first involves comprehensive data preprocessing and feature engineering to refine the dataset. The second stage focuses on model training and hyperparameter tuning, utilizing the XGBoost algorithm to predict house prices accurately. The final stage involves the implementation of a user-friendly web application using Streamlit, allowing users to input house features and receive real-time price predictions.\n",
    "\n",
    "These hypotheses and their subsequent validation guide our analysis, ensuring that our predictive model captures the underlying dynamics of house price determinants in Ames, Iowa. The Streamlit application provides a practical interface for users to leverage these insights, enhancing the decision-making process in real estate transactions.\n",
    "\n",
    "Given the provided information, here is the README file section with the hypotheses and their validations, and an overall project overview:\n",
    "\n",
    "### Hypotheses:\n",
    "\n",
    "1. **Hypothesis 1:** Larger houses, represented by features like first floor area (`1stFlrSF`), second floor area (`2ndFlrSF`), and above-ground living area (`GrLivArea`), will have higher market prices. \n",
    "\n",
    "2. **Hypothesis 2:** The quality of a house, indicated by features such as overall condition (`OverallCond`) and overall material and finish quality rating (`OverallQual`), significantly influences its price. Higher quality ratings are expected to correlate with higher house prices.\n",
    "\n",
    "3. **Hypothesis 3:** Features related to additional amenities like finished basements (`BsmtFinSF1`), garage area (`GarageArea`), and larger lot sizes (`LotArea`) will contribute positively to house prices.\n",
    "\n",
    "### Hypotheses Validation:\n",
    "\n",
    "- **Hypothesis 1 Validation:** This hypothesis will be validated through scatter plots and correlation analysis. Positive correlations between size-related features and house prices will confirm the hypothesis.\n",
    "\n",
    "- **Hypothesis 2 Validation:** Box plots and bar charts will be used to compare price distributions across different quality ratings. Statistical tests will be applied to confirm the relationship between quality ratings and house prices.\n",
    "\n",
    "- **Hypothesis 3 Validation:** Similar visualizations and statistical methods will be used to validate the impact of amenities such as finished basements, garage area, and lot size on house prices.\n",
    "\n",
    "### Project Overview:\n",
    "\n",
    "This project involves three main stages:\n",
    "\n",
    "1. **Data Preprocessing and Feature Engineering (File 1):** This phase includes handling missing data, removing outliers, and encoding categorical variables. Visualization techniques like box plots, distribution plots, and correlation analysis are applied to understand the dataset. Outliers, especially in the 'LotArea' feature, are detected and removed using the Interquartile Range (IQR) method. Visualizations are used to ensure data integrity after outlier removal.\n",
    "\n",
    "2. **Model Training and Hyperparameter Tuning (File 2):** A pre-trained XGBoost model is loaded and tested. The dataset is further refined by selecting specific columns ('1stFlrSF', '2ndFlrSF', 'BedroomAbvGr', etc.) based on their relevance. Hyperparameter tuning is performed using GridSearchCV to optimize the XGBoost model for accurate predictions.\n",
    "\n",
    "3. **Streamlit Web Application (File 3):** The final model is integrated into a Streamlit web application (`app.py`). Users can input house features, and the application provides real-time price predictions based on the trained model. Features such as first floor area, bedrooms, garage area, and others are considered for predictions.\n",
    "\n",
    "These hypotheses guide the analysis, ensuring that the model captures essential factors influencing house prices. The Streamlit application provides an intuitive interface for users to make informed decisions in real estate transactions.\n",
    "\n",
    "The README file for your project should serve as a comprehensive guide, providing essential information for users and developers. Based on the provided context and files, here's an outline for your README.md file:\n",
    "\n",
    "---\n",
    "\n",
    "# House Price Prediction Project\n",
    "\n",
    "## Overview\n",
    "This project aims to predict house prices in Ames, Iowa, utilizing a machine learning model trained on various features such as size, quality, and additional amenities. The predictions are made based on hypotheses formulated around the impact of these features on house prices.\n",
    "\n",
    "## Hypotheses\n",
    "1. **Size Matters:** Larger houses, as indicated by features like first floor area (`1stFlrSF`), second floor area (`2ndFlrSF`), and above-ground living area (`GrLivArea`), are expected to have higher market prices.\n",
    "2. **Quality Sells:** The quality of a house, represented by features like overall condition (`OverallCond`) and overall material and finish quality rating (`OverallQual`), significantly influences its price. Higher quality ratings are hypothesized to correlate with higher house prices.\n",
    "3. **Amenities Add Value:** Additional features such as finished basements (`BsmtFinSF1`), garage area (`GarageArea`), and larger lot sizes (`LotArea`) are expected to contribute positively to house prices.\n",
    "\n",
    "## Validation Process\n",
    "- **Hypothesis 1 Validation:** Correlation analysis and scatter plots will be utilized to confirm the positive relationship between size-related features and house prices.\n",
    "- **Hypothesis 2 Validation:** Box plots and bar charts will be employed to compare price distributions across different quality ratings. Statistical tests will validate the correlation between quality ratings and house prices.\n",
    "- **Hypothesis 3 Validation:** Visualizations and statistical methods will be applied to validate the impact of amenities on house prices.\n",
    "\n",
    "## Project Structure\n",
    "\n",
    "### 1. Data Preprocessing and Feature Engineering (File 1)\n",
    "- Exploratory data analysis, handling missing values, and outlier removal.\n",
    "- Encoding categorical variables and preparing the dataset for model training.\n",
    "\n",
    "### 2. Model Training and Hyperparameter Tuning (File 2)\n",
    "- Loading the pre-trained XGBoost model and refining the dataset.\n",
    "- Training the model, selecting relevant features, and optimizing hyperparameters using GridSearchCV.\n",
    "\n",
    "### 3. Streamlit Web Application (File 3)\n",
    "- Building a user-friendly web interface using Streamlit for real-time house price predictions.\n",
    "- Implementing input features and integrating the optimized model for accurate predictions.\n",
    "\n",
    "## How to Use\n",
    "1. **Data Preprocessing:** Run `File 1` in a Jupyter notebook to preprocess the data and engineer relevant features.\n",
    "2. **Model Training:** Execute `File 2` to load the pre-trained model, select features, and optimize hyperparameters.\n",
    "3. **Web Application:** Run `File 3` (app.py) in your local environment. Input house features in the web interface to get real-time price predictions.\n",
    "\n",
    "## Requirements\n",
    "- Python 3.x\n",
    "- Libraries: Pandas, NumPy, Seaborn, Matplotlib, XGBoost, Streamlit\n",
    "\n",
    "## Author\n",
    "[Your Name]\n",
    "\n",
    "## License\n",
    "This project is licensed under the [License Name] License - see the [LICENSE](LICENSE) file for details.\n",
    "\n",
    "---\n",
    "\n",
    "Feel free to customize the README file according to your project specifics and add any additional sections or information as needed."
   ]
  }
 ],
 "metadata": {
  "kernelspec": {
   "display_name": "base",
   "language": "python",
   "name": "python3"
  },
  "language_info": {
   "codemirror_mode": {
    "name": "ipython",
    "version": 3
   },
   "file_extension": ".py",
   "mimetype": "text/x-python",
   "name": "python",
   "nbconvert_exporter": "python",
   "pygments_lexer": "ipython3",
   "version": "3.10.9"
  }
 },
 "nbformat": 4,
 "nbformat_minor": 2
}
